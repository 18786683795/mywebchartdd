{
 "cells": [
  {
   "cell_type": "code",
   "execution_count": 70,
   "metadata": {
    "collapsed": true
   },
   "outputs": [],
   "source": [
    "def getflow(r):\n",
    "    import json\n",
    "    import pymysql\n",
    "    import pandas as pd\n",
    "    conn = pymysql.connect(host=\"127.0.0.1\",user=\"root\",password=\"mysql\",database=\"keen_its\",charset=\"utf8\")\n",
    "    #conn = pymysql.connect(host=\"172.168.16.249\",user=\"keen\",password=\"keen123456\",database=\"keen_its\",charset=\"utf8\")\n",
    "    data = pd.read_sql('select * from t_regional_hour_flow',conn)\n",
    "    #data = data[data.columns[1:]]\n",
    "    flow_h = []\n",
    "    flow_t = []\n",
    "    flow_z = []\n",
    "    flow_w = []\n",
    "    flow_p = []\n",
    "    for qy in set(data['regional']):\n",
    "        data1 = data[data['regional']==qy]\n",
    "        for rq in set(data['date']):\n",
    "            data2 = data1[data1['date']==rq]\n",
    "            datah = [qy,rq,u'小时',[str(x) for x in list(data2[data2.columns[3:]].sum())]]\n",
    "            flow_h.append(datah)\n",
    "            datat = {'date':rq,'values':{'regional':qy,'values':str(list(data2.sum(axis=1))[0])}}\n",
    "            flowt = []\n",
    "            flowt.append(datat)\n",
    "            for i in flowt:\n",
    "                if i['date']==r:\n",
    "                    flow_t.append(i['values'])\n",
    "            \n",
    "            dataz = {'date':rq,'values':{'regional':qy,'values':str(list(data2[['time7','time8','time9']].sum(axis=1))[0])}}\n",
    "            flowz = []\n",
    "            flowz.append(dataz)\n",
    "            for i in flowz:\n",
    "            #     if i['date'] in set(data['date']):\n",
    "                if i['date']==r:\n",
    "                    flow_z.append(i['values'])\n",
    "            \n",
    "            dataw = {'date':rq,'values':{'regional':qy,'values':str(list(data2[['time17','time18','time19']].sum(axis=1))[0])}}\n",
    "            floww = []\n",
    "            floww.append(dataw)\n",
    "            for i in floww:\n",
    "                if i['date']==r:\n",
    "                    flow_w.append(i['values'])\n",
    "                    \n",
    "            datap = {'date':rq,'values':{'regional':qy,'values':str(list(data2[data2.columns[9:23]].sum(axis=1))[0])}}\n",
    "            flowp = []\n",
    "            flowp.append(datap)\n",
    "            for i in flowp:\n",
    "                if i['date']==r:\n",
    "                    flow_p.append(i['values'])\n",
    "                    \n",
    "    return flow_h,flow_t,flow_z,flow_w,flow_p\n",
    "\n",
    "def getflows(r):\n",
    "    import json  \n",
    "    flow = getflow(r)\n",
    "    return  flow"
   ]
  },
  {
   "cell_type": "code",
   "execution_count": 64,
   "metadata": {
    "collapsed": false
   },
   "outputs": [],
   "source": [
    "datap = {'date':rq,'values':{'regional':qy,'values':str(list(data2[data2.columns[9:23]].sum(axis=1))[0])}}\n",
    "flowp = []\n",
    "flowp.append(datap)\n",
    "for i in flowp:\n",
    "    if i['date']==r:\n",
    "        flow_p.append(i['values'])\n",
    "        \n",
    "        "
   ]
  },
  {
   "cell_type": "code",
   "execution_count": 71,
   "metadata": {
    "collapsed": false
   },
   "outputs": [
    {
     "data": {
      "text/plain": [
       "[{'regional': '520111', 'values': '2445782'},\n",
       " {'regional': '520103', 'values': '8973670'},\n",
       " {'regional': '520113', 'values': '1341234'},\n",
       " {'regional': '520102', 'values': '4251363'},\n",
       " {'regional': '520115', 'values': '7734972'},\n",
       " {'regional': '520112', 'values': '746664'}]"
      ]
     },
     "execution_count": 71,
     "metadata": {},
     "output_type": "execute_result"
    }
   ],
   "source": [
    "getflows('2019-12-1')[1]"
   ]
  },
  {
   "cell_type": "code",
   "execution_count": 46,
   "metadata": {
    "collapsed": false
   },
   "outputs": [
    {
     "data": {
      "text/plain": [
       "[{'regional': '520111', 'values': '310854'},\n",
       " {'regional': '520103', 'values': '1100044'},\n",
       " {'regional': '520113', 'values': '190840'},\n",
       " {'regional': '520102', 'values': '521364'},\n",
       " {'regional': '520115', 'values': '1025254'},\n",
       " {'regional': '520112', 'values': '105239'}]"
      ]
     },
     "execution_count": 46,
     "metadata": {},
     "output_type": "execute_result"
    }
   ],
   "source": [
    "flowz = []\n",
    "for qy in set(data['regional']):\n",
    "    data1 = data[data['regional']==qy]\n",
    "    for rq in set(data['date']):\n",
    "        data2 = data1[data1['date']==rq]\n",
    "        dataz = {'date':rq,'values':{'regional':qy,'values':str(list(data2[['time7','time8','time9']].sum(axis=1))[0])}}\n",
    "        flowz.append(dataz)\n",
    "flow_z = []\n",
    "for i in flowz:\n",
    "#     if i['date'] in set(data['date']):\n",
    "    if i['date']=='2019-12-1':\n",
    "        flow_z.append(i['values'])\n",
    "        \n",
    "flow_z"
   ]
  },
  {
   "cell_type": "code",
   "execution_count": 17,
   "metadata": {
    "collapsed": false,
    "scrolled": true
   },
   "outputs": [
    {
     "name": "stdout",
     "output_type": "stream",
     "text": [
      "['520111', '2019-12-1', '早高峰', '310854']\n",
      "['520111', '2019-12-1', '平峰', '1955390']\n",
      "['520111', '2019-12-2', '早高峰', '310854']\n",
      "['520111', '2019-12-2', '平峰', '1955390']\n",
      "['520111', '2019-12-3', '早高峰', '310854']\n",
      "['520111', '2019-12-3', '平峰', '1955390']\n",
      "['520111', '2019-12-5', '早高峰', '310854']\n",
      "['520111', '2019-12-5', '平峰', '1955390']\n",
      "['520111', '2019-12-4', '早高峰', '310854']\n",
      "['520111', '2019-12-4', '平峰', '1955390']\n",
      "['520103', '2019-12-1', '早高峰', '1100044']\n",
      "['520103', '2019-12-1', '平峰', '6706420']\n",
      "['520103', '2019-12-2', '早高峰', '1100044']\n",
      "['520103', '2019-12-2', '平峰', '6706420']\n",
      "['520103', '2019-12-3', '早高峰', '1100044']\n",
      "['520103', '2019-12-3', '平峰', '6706420']\n",
      "['520103', '2019-12-5', '早高峰', '1100044']\n",
      "['520103', '2019-12-5', '平峰', '6706420']\n",
      "['520103', '2019-12-4', '早高峰', '1100044']\n",
      "['520103', '2019-12-4', '平峰', '6706420']\n",
      "['520113', '2019-12-1', '早高峰', '190840']\n",
      "['520113', '2019-12-1', '平峰', '1101851']\n",
      "['520113', '2019-12-2', '早高峰', '190840']\n",
      "['520113', '2019-12-2', '平峰', '1101851']\n",
      "['520113', '2019-12-3', '早高峰', '190840']\n",
      "['520113', '2019-12-3', '平峰', '1101851']\n",
      "['520113', '2019-12-5', '早高峰', '190840']\n",
      "['520113', '2019-12-5', '平峰', '1101851']\n",
      "['520113', '2019-12-4', '早高峰', '190840']\n",
      "['520113', '2019-12-4', '平峰', '1101851']\n",
      "['520102', '2019-12-1', '早高峰', '521364']\n",
      "['520102', '2019-12-1', '平峰', '3258407']\n",
      "['520102', '2019-12-2', '早高峰', '521364']\n",
      "['520102', '2019-12-2', '平峰', '3258407']\n",
      "['520102', '2019-12-3', '早高峰', '521364']\n",
      "['520102', '2019-12-3', '平峰', '3258407']\n",
      "['520102', '2019-12-5', '早高峰', '521364']\n",
      "['520102', '2019-12-5', '平峰', '3258407']\n",
      "['520102', '2019-12-4', '早高峰', '521364']\n",
      "['520102', '2019-12-4', '平峰', '3258407']\n",
      "['520115', '2019-12-1', '早高峰', '1025254']\n",
      "['520115', '2019-12-1', '平峰', '6452049']\n",
      "['520115', '2019-12-2', '早高峰', '1025254']\n",
      "['520115', '2019-12-2', '平峰', '6452049']\n",
      "['520115', '2019-12-3', '早高峰', '1025254']\n",
      "['520115', '2019-12-3', '平峰', '6452049']\n",
      "['520115', '2019-12-5', '早高峰', '1025254']\n",
      "['520115', '2019-12-5', '平峰', '6452049']\n",
      "['520115', '2019-12-4', '早高峰', '1025254']\n",
      "['520115', '2019-12-4', '平峰', '6452049']\n",
      "['520112', '2019-12-1', '早高峰', '105239']\n",
      "['520112', '2019-12-1', '平峰', '609770']\n",
      "['520112', '2019-12-2', '早高峰', '105239']\n",
      "['520112', '2019-12-2', '平峰', '609770']\n",
      "['520112', '2019-12-3', '早高峰', '105239']\n",
      "['520112', '2019-12-3', '平峰', '609770']\n",
      "['520112', '2019-12-5', '早高峰', '105239']\n",
      "['520112', '2019-12-5', '平峰', '609770']\n",
      "['520112', '2019-12-4', '早高峰', '105239']\n",
      "['520112', '2019-12-4', '平峰', '609770']\n"
     ]
    }
   ],
   "source": [
    "import json\n",
    "import pymysql\n",
    "import pandas as pd\n",
    "conn = pymysql.connect(host=\"127.0.0.1\",user=\"root\",password=\"mysql\",database=\"keen_its\",charset=\"utf8\")\n",
    "#conn = pymysql.connect(host=\"172.168.16.249\",user=\"keen\",password=\"keen123456\",database=\"keen_its\",charset=\"utf8\")\n",
    "data = pd.read_sql('select * from t_regional_hour_flow',conn)\n",
    "#data = data[data.columns[1:]]\n",
    "flow_h = []\n",
    "flow_t = []\n",
    "flow_z = []\n",
    "flow_w = []\n",
    "flow_p = []\n",
    "for qy in set(data['regional']):\n",
    "    data1 = data[data['regional']==qy]\n",
    "    for rq in set(data['date']):\n",
    "        data2 = data1[data1['date']==rq]\n",
    "        datah = [qy,rq,u'小时',[str(x) for x in list(data2[data2.columns[3:]].sum())]]\n",
    "        flow_h.append(datah)\n",
    "        datat = [qy,rq,r'全天',str(list(data2.sum(axis=1))[0])]\n",
    "        flow_t.append(datat)\n",
    "        dataz = [qy,rq,r'早高峰',str(list(data2[['time7','time8','time9']].sum(axis=1))[0])]\n",
    "        print(dataz)\n",
    "        flow_z.append(dataz)\n",
    "        dataw = [qy,rq,r'晚高峰',str(list(data2[['time17','time18','time19']].sum(axis=1))[0])]\n",
    "        flow_w.append(dataw)\n",
    "        datap = [qy,rq,r'平峰',str(list(data2[data2.columns[9:23]].sum(axis=1))[0])]\n",
    "        print(datap)\n",
    "        flow_p.append(datap)"
   ]
  },
  {
   "cell_type": "code",
   "execution_count": 42,
   "metadata": {
    "collapsed": false,
    "scrolled": true
   },
   "outputs": [
    {
     "data": {
      "text/plain": [
       "[{'regional': '520111', 'values': '310854'},\n",
       " {'regional': '520103', 'values': '1100044'},\n",
       " {'regional': '520113', 'values': '190840'},\n",
       " {'regional': '520102', 'values': '521364'},\n",
       " {'regional': '520115', 'values': '1025254'},\n",
       " {'regional': '520112', 'values': '105239'}]"
      ]
     },
     "execution_count": 42,
     "metadata": {},
     "output_type": "execute_result"
    }
   ],
   "source": [
    "flow_z = []\n",
    "for qy in set(data['regional']):\n",
    "    data1 = data[data['regional']==qy]\n",
    "    for rq in set(data['date']):\n",
    "        data2 = data1[data1['date']==rq]\n",
    "        dataz = {'date':rq,'values':{'regional':qy,'values':str(list(data2[['time7','time8','time9']].sum(axis=1))[0])}}\n",
    "        flow_z.append(dataz)\n",
    "        \n",
    "flowz = []\n",
    "for i in flow_z:\n",
    "#     if i['date'] in set(data['date']):\n",
    "    if i['date']=='2019-12-1':\n",
    "        flowz.append(i['values'])\n",
    "        \n",
    "flowz"
   ]
  },
  {
   "cell_type": "code",
   "execution_count": 19,
   "metadata": {
    "collapsed": false
   },
   "outputs": [
    {
     "data": {
      "text/plain": [
       "[{'name': '贵阳', 'value': '5000'},\n",
       " {'name': '成都', 'value': '5500'},\n",
       " {'name': '重庆', 'value': '6000'},\n",
       " {'name': '广州', 'value': '6800'},\n",
       " {'name': '深圳', 'value': '7100'},\n",
       " {'name': '上海', 'value': '7800'}]"
      ]
     },
     "execution_count": 19,
     "metadata": {},
     "output_type": "execute_result"
    }
   ],
   "source": [
    "conn = pymysql.connect(host=\"127.0.0.1\",user=\"root\",password=\"mysql\",database=\"django_jk1\",charset=\"utf8\")\n",
    "#conn = pymysql.connect(host=\"172.168.16.70\",user=\"root\",password=\"root\",database=\"django_jk1\",charset=\"utf8\")\n",
    "context = pd.read_sql('select city,dat from meimei',conn)\n",
    "Pie=[]\n",
    "for i in range(len(context)):\n",
    "    a={\"name\":str(context['city'][i]),\"value\":str(context['dat'][i])}\n",
    "    Pie.append(a)\n",
    "    \n",
    "Pie"
   ]
  },
  {
   "cell_type": "code",
   "execution_count": null,
   "metadata": {
    "collapsed": false
   },
   "outputs": [],
   "source": []
  },
  {
   "cell_type": "code",
   "execution_count": null,
   "metadata": {
    "collapsed": true
   },
   "outputs": [],
   "source": []
  }
 ],
 "metadata": {
  "kernelspec": {
   "display_name": "Python [Root]",
   "language": "python",
   "name": "Python [Root]"
  },
  "language_info": {
   "codemirror_mode": {
    "name": "ipython",
    "version": 3
   },
   "file_extension": ".py",
   "mimetype": "text/x-python",
   "name": "python",
   "nbconvert_exporter": "python",
   "pygments_lexer": "ipython3",
   "version": "3.5.2"
  }
 },
 "nbformat": 4,
 "nbformat_minor": 0
}
